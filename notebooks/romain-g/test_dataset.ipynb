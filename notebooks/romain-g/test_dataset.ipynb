{
 "cells": [
  {
   "cell_type": "code",
   "execution_count": 1,
   "id": "f331f870",
   "metadata": {
    "ExecuteTime": {
     "end_time": "2022-01-25T18:43:38.962283Z",
     "start_time": "2022-01-25T18:43:35.686320Z"
    }
   },
   "outputs": [],
   "source": [
    "import os\n",
    "from torch.utils import data\n",
    "\n",
    "from lib.ml_tasks import multi_head_classification"
   ]
  },
  {
   "cell_type": "code",
   "execution_count": 2,
   "id": "a36db074",
   "metadata": {
    "ExecuteTime": {
     "end_time": "2022-01-25T18:43:39.381900Z",
     "start_time": "2022-01-25T18:43:38.965107Z"
    }
   },
   "outputs": [],
   "source": [
    "dm = multi_head_classification.ClothesClassificationDataModule(\n",
    "    data_dir=os.environ['PROJECT_DIR'] + '/data/lamoda/',\n",
    ")"
   ]
  },
  {
   "cell_type": "code",
   "execution_count": 3,
   "id": "816cd0de",
   "metadata": {
    "ExecuteTime": {
     "end_time": "2022-01-25T18:43:39.396336Z",
     "start_time": "2022-01-25T18:43:39.384012Z"
    }
   },
   "outputs": [
    {
     "data": {
      "text/plain": [
       "['AU012EMIQWZ3_10738026_2_v1_2x.jpg.npy',\n",
       " 'AU012EMIQWZ2_10739827_2_v1_2x.jpg.npy',\n",
       " 'AU012EMKUWS1_12165766_2_v1_2x.jpg.npy',\n",
       " 'AU012EMIQWZ8_10738034_2_v1_2x.jpg.npy',\n",
       " 'AU012EMIQWZ0_10739822_1_v1_2x.jpg.npy',\n",
       " 'AU012EMIQWZ8_10738033_1_v1_2x.jpg.npy',\n",
       " 'AU012EMIQWZ0_10739823_2_v1_2x.jpg.npy',\n",
       " 'AU012EMIQWZ2_10739826_1_v1_2x.jpg.npy',\n",
       " 'AU012EMIQWZ3_10738025_1_v1_2x.jpg.npy',\n",
       " 'AU012EMKUWS1_12165765_1_v1_2x.jpg.npy',\n",
       " 'AU012EMKUWS5_12165773_1_v1_2x.jpg.npy',\n",
       " 'AU012EMKUWS5_12165774_2_v1_2x.jpg.npy',\n",
       " 'AU012EMIQWY9_10738018_2_v1_2x.jpg.npy',\n",
       " 'AU012EMIQWY9_10738017_1_v1_2x.jpg.npy']"
      ]
     },
     "execution_count": 3,
     "metadata": {},
     "output_type": "execute_result"
    }
   ],
   "source": [
    "os.listdir(dm.train_dataset.path)"
   ]
  },
  {
   "cell_type": "code",
   "execution_count": 4,
   "id": "667be32e",
   "metadata": {
    "ExecuteTime": {
     "end_time": "2022-01-25T18:43:39.404201Z",
     "start_time": "2022-01-25T18:43:39.399453Z"
    }
   },
   "outputs": [
    {
     "data": {
      "text/plain": [
       "5"
      ]
     },
     "execution_count": 4,
     "metadata": {},
     "output_type": "execute_result"
    }
   ],
   "source": [
    "len(dm.train_dataset.desc)"
   ]
  },
  {
   "cell_type": "code",
   "execution_count": 5,
   "id": "04a05f0d",
   "metadata": {
    "ExecuteTime": {
     "end_time": "2022-01-25T18:43:39.410689Z",
     "start_time": "2022-01-25T18:43:39.407013Z"
    }
   },
   "outputs": [],
   "source": [
    "tdl = dm.train_dataloader()"
   ]
  },
  {
   "cell_type": "code",
   "execution_count": 6,
   "id": "02ddd41f",
   "metadata": {
    "ExecuteTime": {
     "end_time": "2022-01-25T18:43:39.418622Z",
     "start_time": "2022-01-25T18:43:39.413154Z"
    }
   },
   "outputs": [
    {
     "data": {
      "text/plain": [
       "1"
      ]
     },
     "execution_count": 6,
     "metadata": {},
     "output_type": "execute_result"
    }
   ],
   "source": [
    "len(tdl)"
   ]
  },
  {
   "cell_type": "code",
   "execution_count": 9,
   "id": "b91d98c1",
   "metadata": {
    "ExecuteTime": {
     "end_time": "2022-01-25T18:44:18.859982Z",
     "start_time": "2022-01-25T18:44:18.842098Z"
    }
   },
   "outputs": [
    {
     "name": "stdout",
     "output_type": "stream",
     "text": [
      "img torch.Size([5, 3, 224, 224])\n",
      "category torch.Size([5, 56])\n",
      "season torch.Size([5, 4])\n",
      "color torch.Size([5, 20])\n",
      "print torch.Size([5, 11])\n"
     ]
    }
   ],
   "source": [
    "for n, i in next(iter(tdl)).items():\n",
    "    print(n, i.shape)"
   ]
  }
 ],
 "metadata": {
  "kernelspec": {
   "display_name": "Python 3 (ipykernel)",
   "language": "python",
   "name": "python3"
  },
  "language_info": {
   "codemirror_mode": {
    "name": "ipython",
    "version": 3
   },
   "file_extension": ".py",
   "mimetype": "text/x-python",
   "name": "python",
   "nbconvert_exporter": "python",
   "pygments_lexer": "ipython3",
   "version": "3.7.12"
  }
 },
 "nbformat": 4,
 "nbformat_minor": 5
}
