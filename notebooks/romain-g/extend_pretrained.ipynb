{
 "cells": [
  {
   "cell_type": "code",
   "execution_count": 2,
   "id": "4b317029",
   "metadata": {
    "ExecuteTime": {
     "end_time": "2022-01-23T11:55:31.107886Z",
     "start_time": "2022-01-23T11:55:30.924434Z"
    },
    "scrolled": true
   },
   "outputs": [
    {
     "name": "stderr",
     "output_type": "stream",
     "text": [
      "Using cache found in /Users/romain-g/.cache/torch/hub/pytorch_vision_v0.10.0\n"
     ]
    }
   ],
   "source": [
    "import torch\n",
    "\n",
    "model = torch.hub.load('pytorch/vision:v0.10.0', 'resnet18', pretrained=True)"
   ]
  },
  {
   "cell_type": "code",
   "execution_count": 68,
   "id": "5bc85152",
   "metadata": {
    "ExecuteTime": {
     "end_time": "2022-01-23T12:10:35.247036Z",
     "start_time": "2022-01-23T12:10:35.051125Z"
    }
   },
   "outputs": [
    {
     "name": "stderr",
     "output_type": "stream",
     "text": [
      "Using cache found in /Users/romain-g/.cache/torch/hub/pytorch_vision_v0.10.0\n"
     ]
    }
   ],
   "source": [
    "ext_model = torch.hub.load('pytorch/vision:v0.10.0', 'resnet18', pretrained=True)\n",
    "ext_model.conv1.weight.data = torch.cat(\n",
    "    [\n",
    "        model.conv1.weight,\n",
    "        torch.normal(0, 1e-2, size=(64, 1, 7, 7)),\n",
    "    ], \n",
    "    dim=1\n",
    ")"
   ]
  },
  {
   "cell_type": "code",
   "execution_count": 69,
   "id": "0325fb59",
   "metadata": {
    "ExecuteTime": {
     "end_time": "2022-01-23T12:10:35.757451Z",
     "start_time": "2022-01-23T12:10:35.576684Z"
    }
   },
   "outputs": [
    {
     "name": "stderr",
     "output_type": "stream",
     "text": [
      "Using cache found in /Users/romain-g/.cache/torch/hub/pytorch_vision_v0.10.0\n"
     ]
    }
   ],
   "source": [
    "model = torch.hub.load('pytorch/vision:v0.10.0', 'resnet18', pretrained=True)"
   ]
  },
  {
   "cell_type": "code",
   "execution_count": 70,
   "id": "ad386b22",
   "metadata": {
    "ExecuteTime": {
     "end_time": "2022-01-23T12:10:36.326702Z",
     "start_time": "2022-01-23T12:10:36.149261Z"
    }
   },
   "outputs": [
    {
     "data": {
      "text/plain": [
       "tensor(1.0297, grad_fn=<CopyBackwards>)"
      ]
     },
     "execution_count": 70,
     "metadata": {},
     "output_type": "execute_result"
    }
   ],
   "source": [
    "t = torch.rand(4, 224, 224)\n",
    "\n",
    "u = ext_model(t.unsqueeze(0))[0]\n",
    "v = model(t[:3].unsqueeze(0))[0]\n",
    "\n",
    "torch.norm(u - v)"
   ]
  },
  {
   "cell_type": "code",
   "execution_count": 71,
   "id": "bcfcb06a",
   "metadata": {
    "ExecuteTime": {
     "end_time": "2022-01-23T12:10:37.493773Z",
     "start_time": "2022-01-23T12:10:37.318386Z"
    }
   },
   "outputs": [
    {
     "data": {
      "text/plain": [
       "tensor(2.8850, grad_fn=<CopyBackwards>)"
      ]
     },
     "execution_count": 71,
     "metadata": {},
     "output_type": "execute_result"
    }
   ],
   "source": [
    "t = torch.rand(4, 224, 224)\n",
    "u = ext_model(t.unsqueeze(0))[0]\n",
    "\n",
    "t = torch.rand(4, 224, 224)\n",
    "v = ext_model(t.unsqueeze(0))[0]\n",
    "\n",
    "torch.norm(u - v)"
   ]
  }
 ],
 "metadata": {
  "kernelspec": {
   "display_name": "Python 3 (ipykernel)",
   "language": "python",
   "name": "python3"
  },
  "language_info": {
   "codemirror_mode": {
    "name": "ipython",
    "version": 3
   },
   "file_extension": ".py",
   "mimetype": "text/x-python",
   "name": "python",
   "nbconvert_exporter": "python",
   "pygments_lexer": "ipython3",
   "version": "3.7.12"
  }
 },
 "nbformat": 4,
 "nbformat_minor": 5
}
