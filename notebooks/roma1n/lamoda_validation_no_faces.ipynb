{
 "cells": [
  {
   "cell_type": "code",
   "execution_count": 64,
   "id": "eb513aaf",
   "metadata": {
    "ExecuteTime": {
     "end_time": "2022-02-20T15:40:09.602365Z",
     "start_time": "2022-02-20T15:40:09.586283Z"
    }
   },
   "outputs": [],
   "source": [
    "import json\n",
    "import os\n",
    "import numpy as np\n",
    "import pandas as pd\n",
    "import matplotlib.pyplot as plt\n",
    "import seaborn as sns\n",
    "from sklearn import metrics\n",
    "import tqdm\n",
    "\n",
    "from scipy import stats as sps\n",
    "\n",
    "sns.set_style('whitegrid')"
   ]
  },
  {
   "cell_type": "code",
   "execution_count": 92,
   "id": "990bc1c5",
   "metadata": {
    "ExecuteTime": {
     "end_time": "2022-02-21T10:55:31.510086Z",
     "start_time": "2022-02-21T10:55:31.138960Z"
    }
   },
   "outputs": [
    {
     "data": {
      "text/html": [
       "<div>\n",
       "<style scoped>\n",
       "    .dataframe tbody tr th:only-of-type {\n",
       "        vertical-align: middle;\n",
       "    }\n",
       "\n",
       "    .dataframe tbody tr th {\n",
       "        vertical-align: top;\n",
       "    }\n",
       "\n",
       "    .dataframe thead th {\n",
       "        text-align: right;\n",
       "    }\n",
       "</style>\n",
       "<table border=\"1\" class=\"dataframe\">\n",
       "  <thead>\n",
       "    <tr style=\"text-align: right;\">\n",
       "      <th></th>\n",
       "      <th>lamoda_id</th>\n",
       "      <th>face_img</th>\n",
       "      <th>score</th>\n",
       "    </tr>\n",
       "  </thead>\n",
       "  <tbody>\n",
       "    <tr>\n",
       "      <th>0</th>\n",
       "      <td>MP002XM09L02</td>\n",
       "      <td>1.png</td>\n",
       "      <td>0.098668</td>\n",
       "    </tr>\n",
       "    <tr>\n",
       "      <th>1</th>\n",
       "      <td>MP002XM09L02</td>\n",
       "      <td>10.png</td>\n",
       "      <td>0.183460</td>\n",
       "    </tr>\n",
       "    <tr>\n",
       "      <th>2</th>\n",
       "      <td>MP002XM09L02</td>\n",
       "      <td>11.png</td>\n",
       "      <td>-0.486438</td>\n",
       "    </tr>\n",
       "    <tr>\n",
       "      <th>3</th>\n",
       "      <td>MP002XM09L02</td>\n",
       "      <td>12.png</td>\n",
       "      <td>-0.446222</td>\n",
       "    </tr>\n",
       "    <tr>\n",
       "      <th>4</th>\n",
       "      <td>MP002XM09L02</td>\n",
       "      <td>13.png</td>\n",
       "      <td>-0.225388</td>\n",
       "    </tr>\n",
       "  </tbody>\n",
       "</table>\n",
       "</div>"
      ],
      "text/plain": [
       "      lamoda_id face_img     score\n",
       "0  MP002XM09L02    1.png  0.098668\n",
       "1  MP002XM09L02   10.png  0.183460\n",
       "2  MP002XM09L02   11.png -0.486438\n",
       "3  MP002XM09L02   12.png -0.446222\n",
       "4  MP002XM09L02   13.png -0.225388"
      ]
     },
     "execution_count": 92,
     "metadata": {},
     "output_type": "execute_result"
    }
   ],
   "source": [
    "with open(\n",
    "    os.path.join(\n",
    "        os.environ['PROJECT_DIR'],\n",
    "        'data',\n",
    "        'lamoda',\n",
    "        'validation',\n",
    "        'result_vgg.json'\n",
    "    ),\n",
    "    'r'\n",
    ") as f:\n",
    "    result = pd.DataFrame(json.loads(f.read()))\n",
    "\n",
    "result.head()"
   ]
  },
  {
   "cell_type": "code",
   "execution_count": 93,
   "id": "656fd037",
   "metadata": {
    "ExecuteTime": {
     "end_time": "2022-02-21T10:55:36.762368Z",
     "start_time": "2022-02-21T10:55:36.749531Z"
    }
   },
   "outputs": [
    {
     "data": {
      "text/plain": [
       "658"
      ]
     },
     "execution_count": 93,
     "metadata": {},
     "output_type": "execute_result"
    }
   ],
   "source": [
    "len(result)"
   ]
  },
  {
   "cell_type": "code",
   "execution_count": 94,
   "id": "650db134",
   "metadata": {
    "ExecuteTime": {
     "end_time": "2022-02-21T10:55:37.506670Z",
     "start_time": "2022-02-21T10:55:37.444407Z"
    }
   },
   "outputs": [
    {
     "data": {
      "text/html": [
       "<div>\n",
       "<style scoped>\n",
       "    .dataframe tbody tr th:only-of-type {\n",
       "        vertical-align: middle;\n",
       "    }\n",
       "\n",
       "    .dataframe tbody tr th {\n",
       "        vertical-align: top;\n",
       "    }\n",
       "\n",
       "    .dataframe thead th {\n",
       "        text-align: right;\n",
       "    }\n",
       "</style>\n",
       "<table border=\"1\" class=\"dataframe\">\n",
       "  <thead>\n",
       "    <tr style=\"text-align: right;\">\n",
       "      <th></th>\n",
       "      <th>man_id</th>\n",
       "      <th>lamoda_id</th>\n",
       "      <th>id_type</th>\n",
       "      <th>face_img</th>\n",
       "      <th>gender</th>\n",
       "      <th>img_url</th>\n",
       "    </tr>\n",
       "  </thead>\n",
       "  <tbody>\n",
       "    <tr>\n",
       "      <th>0</th>\n",
       "      <td>0</td>\n",
       "      <td>MP002XM09L02</td>\n",
       "      <td>lamoda_id</td>\n",
       "      <td>1.png</td>\n",
       "      <td>m</td>\n",
       "      <td>https://a.lmcdn.ru/img600x866/M/P/MP002XM09L02...</td>\n",
       "    </tr>\n",
       "    <tr>\n",
       "      <th>1</th>\n",
       "      <td>0</td>\n",
       "      <td>RTLAAY403301</td>\n",
       "      <td>lamoda_id</td>\n",
       "      <td>1.png</td>\n",
       "      <td>m</td>\n",
       "      <td>https://a.lmcdn.ru/img600x866/R/T/RTLAAY403301...</td>\n",
       "    </tr>\n",
       "    <tr>\n",
       "      <th>2</th>\n",
       "      <td>0</td>\n",
       "      <td>RTLAAL116001</td>\n",
       "      <td>lamoda_id</td>\n",
       "      <td>2.png</td>\n",
       "      <td>m</td>\n",
       "      <td>https://a.lmcdn.ru/img600x866/R/T/RTLAAL116001...</td>\n",
       "    </tr>\n",
       "    <tr>\n",
       "      <th>3</th>\n",
       "      <td>0</td>\n",
       "      <td>RTLAAY401301</td>\n",
       "      <td>lamoda_id</td>\n",
       "      <td>2.png</td>\n",
       "      <td>m</td>\n",
       "      <td>https://a.lmcdn.ru/img600x866/R/T/RTLAAY401301...</td>\n",
       "    </tr>\n",
       "    <tr>\n",
       "      <th>4</th>\n",
       "      <td>0</td>\n",
       "      <td>RTLAAV826701</td>\n",
       "      <td>lamoda_id</td>\n",
       "      <td>2.png</td>\n",
       "      <td>m</td>\n",
       "      <td>https://a.lmcdn.ru/img600x866/R/T/RTLAAV826701...</td>\n",
       "    </tr>\n",
       "  </tbody>\n",
       "</table>\n",
       "</div>"
      ],
      "text/plain": [
       "   man_id     lamoda_id    id_type face_img gender  \\\n",
       "0       0  MP002XM09L02  lamoda_id    1.png      m   \n",
       "1       0  RTLAAY403301  lamoda_id    1.png      m   \n",
       "2       0  RTLAAL116001  lamoda_id    2.png      m   \n",
       "3       0  RTLAAY401301  lamoda_id    2.png      m   \n",
       "4       0  RTLAAV826701  lamoda_id    2.png      m   \n",
       "\n",
       "                                             img_url  \n",
       "0  https://a.lmcdn.ru/img600x866/M/P/MP002XM09L02...  \n",
       "1  https://a.lmcdn.ru/img600x866/R/T/RTLAAY403301...  \n",
       "2  https://a.lmcdn.ru/img600x866/R/T/RTLAAL116001...  \n",
       "3  https://a.lmcdn.ru/img600x866/R/T/RTLAAY401301...  \n",
       "4  https://a.lmcdn.ru/img600x866/R/T/RTLAAV826701...  "
      ]
     },
     "execution_count": 94,
     "metadata": {},
     "output_type": "execute_result"
    }
   ],
   "source": [
    "meta = pd.read_csv(\n",
    "    os.path.join(\n",
    "        os.environ['PROJECT_DIR'],\n",
    "        'data',\n",
    "        'lamoda',\n",
    "        'validation',\n",
    "        'meta.csv'\n",
    "    )\n",
    ")\n",
    "meta = meta.rename(columns={'id': 'lamoda_id'})\n",
    "meta.head()"
   ]
  },
  {
   "cell_type": "code",
   "execution_count": 95,
   "id": "4690b17a",
   "metadata": {
    "ExecuteTime": {
     "end_time": "2022-02-21T10:55:41.551343Z",
     "start_time": "2022-02-21T10:55:41.379903Z"
    }
   },
   "outputs": [
    {
     "data": {
      "text/html": [
       "<div>\n",
       "<style scoped>\n",
       "    .dataframe tbody tr th:only-of-type {\n",
       "        vertical-align: middle;\n",
       "    }\n",
       "\n",
       "    .dataframe tbody tr th {\n",
       "        vertical-align: top;\n",
       "    }\n",
       "\n",
       "    .dataframe thead th {\n",
       "        text-align: right;\n",
       "    }\n",
       "</style>\n",
       "<table border=\"1\" class=\"dataframe\">\n",
       "  <thead>\n",
       "    <tr style=\"text-align: right;\">\n",
       "      <th></th>\n",
       "      <th>lamoda_id</th>\n",
       "      <th>face_img</th>\n",
       "      <th>score</th>\n",
       "      <th>original_man</th>\n",
       "      <th>tested_man</th>\n",
       "      <th>face_img_num</th>\n",
       "    </tr>\n",
       "  </thead>\n",
       "  <tbody>\n",
       "    <tr>\n",
       "      <th>0</th>\n",
       "      <td>MP002XM09L02</td>\n",
       "      <td>1.png</td>\n",
       "      <td>0.098668</td>\n",
       "      <td>0</td>\n",
       "      <td>0</td>\n",
       "      <td>1</td>\n",
       "    </tr>\n",
       "    <tr>\n",
       "      <th>1</th>\n",
       "      <td>MP002XM09L02</td>\n",
       "      <td>10.png</td>\n",
       "      <td>0.183460</td>\n",
       "      <td>0</td>\n",
       "      <td>3</td>\n",
       "      <td>10</td>\n",
       "    </tr>\n",
       "    <tr>\n",
       "      <th>2</th>\n",
       "      <td>MP002XM09L02</td>\n",
       "      <td>11.png</td>\n",
       "      <td>-0.486438</td>\n",
       "      <td>0</td>\n",
       "      <td>4</td>\n",
       "      <td>11</td>\n",
       "    </tr>\n",
       "    <tr>\n",
       "      <th>3</th>\n",
       "      <td>MP002XM09L02</td>\n",
       "      <td>12.png</td>\n",
       "      <td>-0.446222</td>\n",
       "      <td>0</td>\n",
       "      <td>4</td>\n",
       "      <td>12</td>\n",
       "    </tr>\n",
       "    <tr>\n",
       "      <th>4</th>\n",
       "      <td>MP002XM09L02</td>\n",
       "      <td>13.png</td>\n",
       "      <td>-0.225388</td>\n",
       "      <td>0</td>\n",
       "      <td>5</td>\n",
       "      <td>13</td>\n",
       "    </tr>\n",
       "  </tbody>\n",
       "</table>\n",
       "</div>"
      ],
      "text/plain": [
       "      lamoda_id face_img     score  original_man  tested_man  face_img_num\n",
       "0  MP002XM09L02    1.png  0.098668             0           0             1\n",
       "1  MP002XM09L02   10.png  0.183460             0           3            10\n",
       "2  MP002XM09L02   11.png -0.486438             0           4            11\n",
       "3  MP002XM09L02   12.png -0.446222             0           4            12\n",
       "4  MP002XM09L02   13.png -0.225388             0           5            13"
      ]
     },
     "execution_count": 95,
     "metadata": {},
     "output_type": "execute_result"
    }
   ],
   "source": [
    "result = result.merge(\n",
    "    meta[['lamoda_id', 'man_id']].groupby('lamoda_id').first().reset_index(),\n",
    "    on='lamoda_id', how='left',\n",
    ").rename(columns={'man_id': 'original_man'})\n",
    "\n",
    "result = result.merge(\n",
    "    meta[['face_img', 'man_id']].groupby('face_img').first().reset_index(),\n",
    "    on='face_img', how='left',\n",
    ").rename(columns={'man_id': 'tested_man'})\n",
    "\n",
    "result['face_img_num'] = [int(x.split('.')[0]) for x in result['face_img']]\n",
    "\n",
    "result.head()"
   ]
  },
  {
   "cell_type": "code",
   "execution_count": 96,
   "id": "7b90e66d",
   "metadata": {
    "ExecuteTime": {
     "end_time": "2022-02-21T10:55:44.739728Z",
     "start_time": "2022-02-21T10:55:43.493074Z"
    }
   },
   "outputs": [
    {
     "data": {
      "image/png": "[encoded data removed]",
      "text/plain": [
       "<Figure size 864x720 with 2 Axes>"
      ]
     },
     "metadata": {},
     "output_type": "display_data"
    }
   ],
   "source": [
    "plt.figure(figsize=(12, 10))\n",
    "\n",
    "pivot = result.pivot(index='lamoda_id', columns='face_img_num', values='score')\n",
    "\n",
    "lamoda_id_to_man = {row['lamoda_id']: row['man_id'] for _, row in meta.iterrows()}\n",
    "face_img_to_man = {row['face_img']: row['man_id'] for _, row in meta.iterrows()}\n",
    "pivot = pivot.sort_index(key=lambda x: [lamoda_id_to_man[y] for y in x])\n",
    "\n",
    "sns.heatmap(pivot)\n",
    "\n",
    "plt.gca().set_yticklabels([lamoda_id_to_man[x] for x in pivot.index])\n",
    "plt.gca().set_xticklabels([face_img_to_man['{}.png'.format(x)] for x in pivot.columns])\n",
    "\n",
    "plt.show()"
   ]
  },
  {
   "cell_type": "code",
   "execution_count": 97,
   "id": "20bd067f",
   "metadata": {
    "ExecuteTime": {
     "end_time": "2022-02-21T10:55:50.900111Z",
     "start_time": "2022-02-21T10:55:50.880859Z"
    }
   },
   "outputs": [
    {
     "data": {
      "text/html": [
       "<div>\n",
       "<style scoped>\n",
       "    .dataframe tbody tr th:only-of-type {\n",
       "        vertical-align: middle;\n",
       "    }\n",
       "\n",
       "    .dataframe tbody tr th {\n",
       "        vertical-align: top;\n",
       "    }\n",
       "\n",
       "    .dataframe thead th {\n",
       "        text-align: right;\n",
       "    }\n",
       "</style>\n",
       "<table border=\"1\" class=\"dataframe\">\n",
       "  <thead>\n",
       "    <tr style=\"text-align: right;\">\n",
       "      <th></th>\n",
       "      <th>lamoda_id</th>\n",
       "      <th>face_img</th>\n",
       "      <th>label</th>\n",
       "    </tr>\n",
       "  </thead>\n",
       "  <tbody>\n",
       "    <tr>\n",
       "      <th>0</th>\n",
       "      <td>RTLAAZ128901</td>\n",
       "      <td>1.png</td>\n",
       "      <td>True</td>\n",
       "    </tr>\n",
       "    <tr>\n",
       "      <th>1</th>\n",
       "      <td>MP002XM09L02</td>\n",
       "      <td>1.png</td>\n",
       "      <td>True</td>\n",
       "    </tr>\n",
       "    <tr>\n",
       "      <th>2</th>\n",
       "      <td>RTLAAY403301</td>\n",
       "      <td>1.png</td>\n",
       "      <td>True</td>\n",
       "    </tr>\n",
       "    <tr>\n",
       "      <th>3</th>\n",
       "      <td>RTLAAY401501</td>\n",
       "      <td>1.png</td>\n",
       "      <td>True</td>\n",
       "    </tr>\n",
       "    <tr>\n",
       "      <th>4</th>\n",
       "      <td>MP002XM1HZ2P</td>\n",
       "      <td>1.png</td>\n",
       "      <td>True</td>\n",
       "    </tr>\n",
       "    <tr>\n",
       "      <th>5</th>\n",
       "      <td>RTLAAY401301</td>\n",
       "      <td>1.png</td>\n",
       "      <td>True</td>\n",
       "    </tr>\n",
       "    <tr>\n",
       "      <th>6</th>\n",
       "      <td>RTLAAV826701</td>\n",
       "      <td>1.png</td>\n",
       "      <td>True</td>\n",
       "    </tr>\n",
       "    <tr>\n",
       "      <th>7</th>\n",
       "      <td>RTLAAV407401</td>\n",
       "      <td>1.png</td>\n",
       "      <td>True</td>\n",
       "    </tr>\n",
       "    <tr>\n",
       "      <th>8</th>\n",
       "      <td>RTLAAL116001</td>\n",
       "      <td>1.png</td>\n",
       "      <td>True</td>\n",
       "    </tr>\n",
       "    <tr>\n",
       "      <th>9</th>\n",
       "      <td>CA939EMMDKZ5</td>\n",
       "      <td>1.png</td>\n",
       "      <td>False</td>\n",
       "    </tr>\n",
       "  </tbody>\n",
       "</table>\n",
       "</div>"
      ],
      "text/plain": [
       "      lamoda_id face_img  label\n",
       "0  RTLAAZ128901    1.png   True\n",
       "1  MP002XM09L02    1.png   True\n",
       "2  RTLAAY403301    1.png   True\n",
       "3  RTLAAY401501    1.png   True\n",
       "4  MP002XM1HZ2P    1.png   True\n",
       "5  RTLAAY401301    1.png   True\n",
       "6  RTLAAV826701    1.png   True\n",
       "7  RTLAAV407401    1.png   True\n",
       "8  RTLAAL116001    1.png   True\n",
       "9  CA939EMMDKZ5    1.png  False"
      ]
     },
     "execution_count": 97,
     "metadata": {},
     "output_type": "execute_result"
    }
   ],
   "source": [
    "from itertools import chain\n",
    "\n",
    "labels = list(chain.from_iterable([\n",
    "    [\n",
    "        {\n",
    "            'lamoda_id': y,\n",
    "            'face_img': '{}.png'.format(x),\n",
    "            'label': lamoda_id_to_man[y] == face_img_to_man['{}.png'.format(x)],\n",
    "            # 'score': pivot.at[y, x]\n",
    "        } for y in pivot.index\n",
    "    ] for x in pivot.columns\n",
    "]))\n",
    "\n",
    "labels = pd.DataFrame(labels)\n",
    "\n",
    "labels.head(10)"
   ]
  },
  {
   "cell_type": "code",
   "execution_count": 98,
   "id": "5f35834c",
   "metadata": {
    "ExecuteTime": {
     "end_time": "2022-02-21T10:55:53.008066Z",
     "start_time": "2022-02-21T10:55:52.994140Z"
    }
   },
   "outputs": [
    {
     "data": {
      "text/plain": [
       "(array([False,  True]), array([547, 111]))"
      ]
     },
     "execution_count": 98,
     "metadata": {},
     "output_type": "execute_result"
    }
   ],
   "source": [
    "np.unique(labels.label, return_counts=True)"
   ]
  },
  {
   "cell_type": "code",
   "execution_count": 76,
   "id": "bb37d83d",
   "metadata": {
    "ExecuteTime": {
     "end_time": "2022-02-20T16:53:23.250483Z",
     "start_time": "2022-02-20T16:53:03.884557Z"
    }
   },
   "outputs": [
    {
     "name": "stderr",
     "output_type": "stream",
     "text": [
      "100%|███████████████████████████████████████████████████████████████████████████████████████████████| 10000/10000 [00:19<00:00, 516.66it/s]"
     ]
    },
    {
     "name": "stdout",
     "output_type": "stream",
     "text": [
      "0.001\n"
     ]
    },
    {
     "name": "stderr",
     "output_type": "stream",
     "text": [
      "\n"
     ]
    }
   ],
   "source": [
    "samples = []\n",
    "\n",
    "for i in tqdm.tqdm(range(10000)):\n",
    "    target = np.concatenate([\n",
    "        np.zeros(547),\n",
    "        np.ones(111),\n",
    "    ]).astype(int)\n",
    "\n",
    "    preds = sps.uniform().rvs(658)\n",
    "\n",
    "    samples.append(metrics.roc_auc_score(target, preds))\n",
    "    \n",
    "    \n",
    "samples = np.array(samples)\n",
    "print(np.mean(samples < 0.404))\n"
   ]
  },
  {
   "cell_type": "code",
   "execution_count": 99,
   "id": "d7c0940a",
   "metadata": {
    "ExecuteTime": {
     "end_time": "2022-02-21T10:55:56.922096Z",
     "start_time": "2022-02-21T10:55:56.898411Z"
    }
   },
   "outputs": [
    {
     "data": {
      "text/html": [
       "<div>\n",
       "<style scoped>\n",
       "    .dataframe tbody tr th:only-of-type {\n",
       "        vertical-align: middle;\n",
       "    }\n",
       "\n",
       "    .dataframe tbody tr th {\n",
       "        vertical-align: top;\n",
       "    }\n",
       "\n",
       "    .dataframe thead th {\n",
       "        text-align: right;\n",
       "    }\n",
       "</style>\n",
       "<table border=\"1\" class=\"dataframe\">\n",
       "  <thead>\n",
       "    <tr style=\"text-align: right;\">\n",
       "      <th></th>\n",
       "      <th>lamoda_id</th>\n",
       "      <th>face_img</th>\n",
       "      <th>score</th>\n",
       "      <th>original_man</th>\n",
       "      <th>tested_man</th>\n",
       "      <th>face_img_num</th>\n",
       "      <th>label</th>\n",
       "    </tr>\n",
       "  </thead>\n",
       "  <tbody>\n",
       "    <tr>\n",
       "      <th>0</th>\n",
       "      <td>MP002XM09L02</td>\n",
       "      <td>1.png</td>\n",
       "      <td>0.098668</td>\n",
       "      <td>0</td>\n",
       "      <td>0</td>\n",
       "      <td>1</td>\n",
       "      <td>True</td>\n",
       "    </tr>\n",
       "    <tr>\n",
       "      <th>1</th>\n",
       "      <td>MP002XM09L02</td>\n",
       "      <td>10.png</td>\n",
       "      <td>0.183460</td>\n",
       "      <td>0</td>\n",
       "      <td>3</td>\n",
       "      <td>10</td>\n",
       "      <td>False</td>\n",
       "    </tr>\n",
       "    <tr>\n",
       "      <th>2</th>\n",
       "      <td>MP002XM09L02</td>\n",
       "      <td>11.png</td>\n",
       "      <td>-0.486438</td>\n",
       "      <td>0</td>\n",
       "      <td>4</td>\n",
       "      <td>11</td>\n",
       "      <td>False</td>\n",
       "    </tr>\n",
       "    <tr>\n",
       "      <th>3</th>\n",
       "      <td>MP002XM09L02</td>\n",
       "      <td>12.png</td>\n",
       "      <td>-0.446222</td>\n",
       "      <td>0</td>\n",
       "      <td>4</td>\n",
       "      <td>12</td>\n",
       "      <td>False</td>\n",
       "    </tr>\n",
       "    <tr>\n",
       "      <th>4</th>\n",
       "      <td>MP002XM09L02</td>\n",
       "      <td>13.png</td>\n",
       "      <td>-0.225388</td>\n",
       "      <td>0</td>\n",
       "      <td>5</td>\n",
       "      <td>13</td>\n",
       "      <td>False</td>\n",
       "    </tr>\n",
       "  </tbody>\n",
       "</table>\n",
       "</div>"
      ],
      "text/plain": [
       "      lamoda_id face_img     score  original_man  tested_man  face_img_num  \\\n",
       "0  MP002XM09L02    1.png  0.098668             0           0             1   \n",
       "1  MP002XM09L02   10.png  0.183460             0           3            10   \n",
       "2  MP002XM09L02   11.png -0.486438             0           4            11   \n",
       "3  MP002XM09L02   12.png -0.446222             0           4            12   \n",
       "4  MP002XM09L02   13.png -0.225388             0           5            13   \n",
       "\n",
       "   label  \n",
       "0   True  \n",
       "1  False  \n",
       "2  False  \n",
       "3  False  \n",
       "4  False  "
      ]
     },
     "execution_count": 99,
     "metadata": {},
     "output_type": "execute_result"
    }
   ],
   "source": [
    "with_labels = result.merge(labels, on=['lamoda_id', 'face_img'])\n",
    "with_labels.head()"
   ]
  },
  {
   "cell_type": "code",
   "execution_count": 100,
   "id": "35079438",
   "metadata": {
    "ExecuteTime": {
     "end_time": "2022-02-21T10:55:58.682374Z",
     "start_time": "2022-02-21T10:55:58.664759Z"
    }
   },
   "outputs": [],
   "source": [
    "with_labels['ranks'] = with_labels.groupby('lamoda_id')['score'].rank(method='first')"
   ]
  },
  {
   "cell_type": "code",
   "execution_count": 101,
   "id": "06f19b94",
   "metadata": {
    "ExecuteTime": {
     "end_time": "2022-02-21T10:55:59.124427Z",
     "start_time": "2022-02-21T10:55:59.069871Z"
    }
   },
   "outputs": [
    {
     "data": {
      "text/plain": [
       "0.4748093614638405"
      ]
     },
     "execution_count": 101,
     "metadata": {},
     "output_type": "execute_result"
    }
   ],
   "source": [
    "metrics.roc_auc_score(with_labels.label.astype(int), with_labels.score)"
   ]
  },
  {
   "cell_type": "code",
   "execution_count": 102,
   "id": "87187430",
   "metadata": {
    "ExecuteTime": {
     "end_time": "2022-02-21T10:56:00.345551Z",
     "start_time": "2022-02-21T10:56:00.335186Z"
    }
   },
   "outputs": [
    {
     "data": {
      "text/plain": [
       "0.48180904853665363"
      ]
     },
     "execution_count": 102,
     "metadata": {},
     "output_type": "execute_result"
    }
   ],
   "source": [
    "metrics.roc_auc_score(with_labels.label.astype(int), with_labels.ranks)"
   ]
  },
  {
   "cell_type": "code",
   "execution_count": 103,
   "id": "c1137b29",
   "metadata": {
    "ExecuteTime": {
     "end_time": "2022-02-21T10:56:08.295262Z",
     "start_time": "2022-02-21T10:56:08.252303Z"
    }
   },
   "outputs": [
    {
     "name": "stdout",
     "output_type": "stream",
     "text": [
      "0.5380116959064327\n",
      "0.6611607142857143\n",
      "0.5040204678362573\n",
      "0.39814814814814814\n",
      "0.39642857142857135\n",
      "0.5026785714285714\n"
     ]
    }
   ],
   "source": [
    "for man in range(6):\n",
    "    curr = with_labels[with_labels.tested_man == man]\n",
    "    print(metrics.roc_auc_score(curr.label.astype(int), curr.ranks))"
   ]
  },
  {
   "cell_type": "code",
   "execution_count": 169,
   "id": "ac15c98d",
   "metadata": {
    "ExecuteTime": {
     "end_time": "2022-02-19T15:41:48.757249Z",
     "start_time": "2022-02-19T15:41:48.725884Z"
    }
   },
   "outputs": [
    {
     "data": {
      "text/html": [
       "<div>\n",
       "<style scoped>\n",
       "    .dataframe tbody tr th:only-of-type {\n",
       "        vertical-align: middle;\n",
       "    }\n",
       "\n",
       "    .dataframe tbody tr th {\n",
       "        vertical-align: top;\n",
       "    }\n",
       "\n",
       "    .dataframe thead th {\n",
       "        text-align: right;\n",
       "    }\n",
       "</style>\n",
       "<table border=\"1\" class=\"dataframe\">\n",
       "  <thead>\n",
       "    <tr style=\"text-align: right;\">\n",
       "      <th></th>\n",
       "      <th>face_img_num</th>\n",
       "      <th>mean_on_trues</th>\n",
       "      <th>mean_on_falses</th>\n",
       "      <th>diff</th>\n",
       "    </tr>\n",
       "  </thead>\n",
       "  <tbody>\n",
       "    <tr>\n",
       "      <th>0</th>\n",
       "      <td>1</td>\n",
       "      <td>11.555556</td>\n",
       "      <td>11.289474</td>\n",
       "      <td>0.266082</td>\n",
       "    </tr>\n",
       "    <tr>\n",
       "      <th>1</th>\n",
       "      <td>2</td>\n",
       "      <td>7.111111</td>\n",
       "      <td>6.289474</td>\n",
       "      <td>0.821637</td>\n",
       "    </tr>\n",
       "    <tr>\n",
       "      <th>2</th>\n",
       "      <td>3</td>\n",
       "      <td>5.888889</td>\n",
       "      <td>3.578947</td>\n",
       "      <td>2.309942</td>\n",
       "    </tr>\n",
       "    <tr>\n",
       "      <th>3</th>\n",
       "      <td>4</td>\n",
       "      <td>6.857143</td>\n",
       "      <td>8.250000</td>\n",
       "      <td>-1.392857</td>\n",
       "    </tr>\n",
       "    <tr>\n",
       "      <th>4</th>\n",
       "      <td>5</td>\n",
       "      <td>6.142857</td>\n",
       "      <td>8.750000</td>\n",
       "      <td>-2.607143</td>\n",
       "    </tr>\n",
       "    <tr>\n",
       "      <th>5</th>\n",
       "      <td>6</td>\n",
       "      <td>7.111111</td>\n",
       "      <td>6.605263</td>\n",
       "      <td>0.505848</td>\n",
       "    </tr>\n",
       "    <tr>\n",
       "      <th>6</th>\n",
       "      <td>7</td>\n",
       "      <td>7.555556</td>\n",
       "      <td>6.052632</td>\n",
       "      <td>1.502924</td>\n",
       "    </tr>\n",
       "    <tr>\n",
       "      <th>7</th>\n",
       "      <td>8</td>\n",
       "      <td>6.500000</td>\n",
       "      <td>4.615385</td>\n",
       "      <td>1.884615</td>\n",
       "    </tr>\n",
       "    <tr>\n",
       "      <th>8</th>\n",
       "      <td>9</td>\n",
       "      <td>5.375000</td>\n",
       "      <td>5.230769</td>\n",
       "      <td>0.144231</td>\n",
       "    </tr>\n",
       "    <tr>\n",
       "      <th>9</th>\n",
       "      <td>10</td>\n",
       "      <td>3.750000</td>\n",
       "      <td>4.051282</td>\n",
       "      <td>-0.301282</td>\n",
       "    </tr>\n",
       "    <tr>\n",
       "      <th>10</th>\n",
       "      <td>11</td>\n",
       "      <td>11.428571</td>\n",
       "      <td>10.325000</td>\n",
       "      <td>1.103571</td>\n",
       "    </tr>\n",
       "    <tr>\n",
       "      <th>11</th>\n",
       "      <td>12</td>\n",
       "      <td>9.571429</td>\n",
       "      <td>11.200000</td>\n",
       "      <td>-1.628571</td>\n",
       "    </tr>\n",
       "    <tr>\n",
       "      <th>12</th>\n",
       "      <td>13</td>\n",
       "      <td>11.142857</td>\n",
       "      <td>10.875000</td>\n",
       "      <td>0.267857</td>\n",
       "    </tr>\n",
       "    <tr>\n",
       "      <th>13</th>\n",
       "      <td>14</td>\n",
       "      <td>6.428571</td>\n",
       "      <td>7.325000</td>\n",
       "      <td>-0.896429</td>\n",
       "    </tr>\n",
       "  </tbody>\n",
       "</table>\n",
       "</div>"
      ],
      "text/plain": [
       "    face_img_num  mean_on_trues  mean_on_falses      diff\n",
       "0              1      11.555556       11.289474  0.266082\n",
       "1              2       7.111111        6.289474  0.821637\n",
       "2              3       5.888889        3.578947  2.309942\n",
       "3              4       6.857143        8.250000 -1.392857\n",
       "4              5       6.142857        8.750000 -2.607143\n",
       "5              6       7.111111        6.605263  0.505848\n",
       "6              7       7.555556        6.052632  1.502924\n",
       "7              8       6.500000        4.615385  1.884615\n",
       "8              9       5.375000        5.230769  0.144231\n",
       "9             10       3.750000        4.051282 -0.301282\n",
       "10            11      11.428571       10.325000  1.103571\n",
       "11            12       9.571429       11.200000 -1.628571\n",
       "12            13      11.142857       10.875000  0.267857\n",
       "13            14       6.428571        7.325000 -0.896429"
      ]
     },
     "execution_count": 169,
     "metadata": {},
     "output_type": "execute_result"
    }
   ],
   "source": [
    "trues = with_labels[with_labels.label == True].groupby('face_img_num').mean().reset_index()[\n",
    "    ['face_img_num', 'ranks']\n",
    "].rename(columns={'ranks': 'mean_on_trues'})\n",
    "\n",
    "falses = with_labels[with_labels.label == False].groupby('face_img_num').mean().reset_index()[\n",
    "    ['face_img_num', 'ranks']\n",
    "].rename(columns={'ranks': 'mean_on_falses'})\n",
    "\n",
    "an = trues.merge(falses, on='face_img_num')\n",
    "an['diff'] = an['mean_on_trues'] - an['mean_on_falses']\n",
    "an"
   ]
  },
  {
   "cell_type": "code",
   "execution_count": 179,
   "id": "d9a8c094",
   "metadata": {
    "ExecuteTime": {
     "end_time": "2022-02-19T15:51:16.590213Z",
     "start_time": "2022-02-19T15:51:16.389680Z"
    }
   },
   "outputs": [
    {
     "data": {
      "image/png": "[encoded data removed]",
      "text/plain": [
       "<Figure size 1440x288 with 1 Axes>"
      ]
     },
     "metadata": {},
     "output_type": "display_data"
    }
   ],
   "source": [
    "plt.figure(figsize=(20, 4))\n",
    "\n",
    "plt.scatter(\n",
    "    np.array(an['diff']),\n",
    "    np.zeros_like(np.array(an['diff'])),\n",
    ")\n",
    "plt.show()"
   ]
  },
  {
   "cell_type": "code",
   "execution_count": 170,
   "id": "8efb2b9c",
   "metadata": {
    "ExecuteTime": {
     "end_time": "2022-02-19T15:47:38.860338Z",
     "start_time": "2022-02-19T15:47:38.855386Z"
    }
   },
   "outputs": [],
   "source": [
    "clean = with_labels[\n",
    "    (with_labels.face_img_num != 4) & (with_labels.face_img_num != 5)\n",
    "]"
   ]
  },
  {
   "cell_type": "code",
   "execution_count": 171,
   "id": "55a73825",
   "metadata": {
    "ExecuteTime": {
     "end_time": "2022-02-19T15:48:04.154831Z",
     "start_time": "2022-02-19T15:48:04.147133Z"
    }
   },
   "outputs": [
    {
     "data": {
      "text/plain": [
       "0.5291066027947637"
      ]
     },
     "execution_count": 171,
     "metadata": {},
     "output_type": "execute_result"
    }
   ],
   "source": [
    "metrics.roc_auc_score(clean.label.astype(int), clean.ranks)"
   ]
  },
  {
   "cell_type": "code",
   "execution_count": 13,
   "id": "f4de8afe",
   "metadata": {
    "ExecuteTime": {
     "end_time": "2022-02-20T15:31:39.809204Z",
     "start_time": "2022-02-20T15:31:39.786835Z"
    }
   },
   "outputs": [
    {
     "data": {
      "text/plain": [
       "0.4044007444373075"
      ]
     },
     "execution_count": 13,
     "metadata": {},
     "output_type": "execute_result"
    }
   ],
   "source": [
    "metrics.roc_auc_score(with_labels.label.astype(int), with_labels.ranks)"
   ]
  },
  {
   "cell_type": "code",
   "execution_count": 14,
   "id": "a468f7f4",
   "metadata": {
    "ExecuteTime": {
     "end_time": "2022-02-20T15:31:40.762482Z",
     "start_time": "2022-02-20T15:31:40.753875Z"
    }
   },
   "outputs": [],
   "source": [
    "trues = np.array(with_labels[with_labels.label == True].score)\n",
    "falses = np.array(with_labels[with_labels.label == False].score)\n"
   ]
  },
  {
   "cell_type": "code",
   "execution_count": 15,
   "id": "cd39cdaa",
   "metadata": {
    "ExecuteTime": {
     "end_time": "2022-02-20T15:31:42.187237Z",
     "start_time": "2022-02-20T15:31:41.968523Z"
    }
   },
   "outputs": [
    {
     "data": {
      "image/png": "[encoded data removed]",
      "text/plain": [
       "<Figure size 1440x288 with 1 Axes>"
      ]
     },
     "metadata": {},
     "output_type": "display_data"
    }
   ],
   "source": [
    "plt.figure(figsize=(20, 4))\n",
    "\n",
    "plt.scatter(\n",
    "    x=falses,\n",
    "    y=np.zeros_like(falses)\n",
    ")\n",
    "\n",
    "plt.scatter(\n",
    "    x=trues,\n",
    "    y=np.ones_like(trues)\n",
    ")\n",
    "\n",
    "plt.show()"
   ]
  },
  {
   "cell_type": "code",
   "execution_count": 16,
   "id": "512cb68e",
   "metadata": {
    "ExecuteTime": {
     "end_time": "2022-02-20T15:31:55.169813Z",
     "start_time": "2022-02-20T15:31:55.156489Z"
    }
   },
   "outputs": [
    {
     "data": {
      "text/html": [
       "<div>\n",
       "<style scoped>\n",
       "    .dataframe tbody tr th:only-of-type {\n",
       "        vertical-align: middle;\n",
       "    }\n",
       "\n",
       "    .dataframe tbody tr th {\n",
       "        vertical-align: top;\n",
       "    }\n",
       "\n",
       "    .dataframe thead th {\n",
       "        text-align: right;\n",
       "    }\n",
       "</style>\n",
       "<table border=\"1\" class=\"dataframe\">\n",
       "  <thead>\n",
       "    <tr style=\"text-align: right;\">\n",
       "      <th></th>\n",
       "      <th>lamoda_id</th>\n",
       "      <th>face_img</th>\n",
       "      <th>score</th>\n",
       "      <th>original_man</th>\n",
       "      <th>tested_man</th>\n",
       "      <th>face_img_num</th>\n",
       "      <th>label</th>\n",
       "      <th>ranks</th>\n",
       "    </tr>\n",
       "  </thead>\n",
       "  <tbody>\n",
       "    <tr>\n",
       "      <th>0</th>\n",
       "      <td>MP002XM09L02</td>\n",
       "      <td>1.png</td>\n",
       "      <td>0.125012</td>\n",
       "      <td>0</td>\n",
       "      <td>0</td>\n",
       "      <td>1</td>\n",
       "      <td>True</td>\n",
       "      <td>6.0</td>\n",
       "    </tr>\n",
       "    <tr>\n",
       "      <th>1</th>\n",
       "      <td>MP002XM09L02</td>\n",
       "      <td>10.png</td>\n",
       "      <td>0.006406</td>\n",
       "      <td>0</td>\n",
       "      <td>3</td>\n",
       "      <td>10</td>\n",
       "      <td>False</td>\n",
       "      <td>3.0</td>\n",
       "    </tr>\n",
       "    <tr>\n",
       "      <th>2</th>\n",
       "      <td>MP002XM09L02</td>\n",
       "      <td>11.png</td>\n",
       "      <td>0.189189</td>\n",
       "      <td>0</td>\n",
       "      <td>4</td>\n",
       "      <td>11</td>\n",
       "      <td>False</td>\n",
       "      <td>11.0</td>\n",
       "    </tr>\n",
       "    <tr>\n",
       "      <th>3</th>\n",
       "      <td>MP002XM09L02</td>\n",
       "      <td>12.png</td>\n",
       "      <td>0.463499</td>\n",
       "      <td>0</td>\n",
       "      <td>4</td>\n",
       "      <td>12</td>\n",
       "      <td>False</td>\n",
       "      <td>14.0</td>\n",
       "    </tr>\n",
       "    <tr>\n",
       "      <th>4</th>\n",
       "      <td>MP002XM09L02</td>\n",
       "      <td>13.png</td>\n",
       "      <td>0.216824</td>\n",
       "      <td>0</td>\n",
       "      <td>5</td>\n",
       "      <td>13</td>\n",
       "      <td>False</td>\n",
       "      <td>12.0</td>\n",
       "    </tr>\n",
       "  </tbody>\n",
       "</table>\n",
       "</div>"
      ],
      "text/plain": [
       "      lamoda_id face_img     score  original_man  tested_man  face_img_num  \\\n",
       "0  MP002XM09L02    1.png  0.125012             0           0             1   \n",
       "1  MP002XM09L02   10.png  0.006406             0           3            10   \n",
       "2  MP002XM09L02   11.png  0.189189             0           4            11   \n",
       "3  MP002XM09L02   12.png  0.463499             0           4            12   \n",
       "4  MP002XM09L02   13.png  0.216824             0           5            13   \n",
       "\n",
       "   label  ranks  \n",
       "0   True    6.0  \n",
       "1  False    3.0  \n",
       "2  False   11.0  \n",
       "3  False   14.0  \n",
       "4  False   12.0  "
      ]
     },
     "execution_count": 16,
     "metadata": {},
     "output_type": "execute_result"
    }
   ],
   "source": [
    "with_labels.head()"
   ]
  },
  {
   "cell_type": "code",
   "execution_count": 194,
   "id": "034794e9",
   "metadata": {
    "ExecuteTime": {
     "end_time": "2022-02-19T16:52:12.905255Z",
     "start_time": "2022-02-19T16:52:12.893881Z"
    }
   },
   "outputs": [],
   "source": [
    "bad = [\n",
    "    'MP002XM1RHAT',\n",
    "    'MP002XM09L02',\n",
    "    'MP002XU04894',\n",
    "    'MP002XU04TBW',\n",
    "    'MP002XW0AL4G',\n",
    "    'MP002XW0B980',\n",
    "    'RTLAAL018401',\n",
    "    'RTLAAL718701',\n",
    "    'RTLAAV826701',\n",
    "    'RTLAAY098601',\n",
    "    'RTLAAY760801',\n",
    "    'RTLABA230001',\n",
    "    'RTLABB484601',\n",
    "    'RTLABA388501',\n",
    "]\n",
    "\n",
    "good_index = [x not in bad for x in with_labels.lamoda_id]"
   ]
  },
  {
   "cell_type": "code",
   "execution_count": 195,
   "id": "eb5ebe2c",
   "metadata": {
    "ExecuteTime": {
     "end_time": "2022-02-19T16:52:13.505889Z",
     "start_time": "2022-02-19T16:52:13.501754Z"
    }
   },
   "outputs": [],
   "source": [
    "good_only = with_labels.loc[good_index]"
   ]
  },
  {
   "cell_type": "code",
   "execution_count": 196,
   "id": "d6419841",
   "metadata": {
    "ExecuteTime": {
     "end_time": "2022-02-19T16:52:13.937612Z",
     "start_time": "2022-02-19T16:52:13.927144Z"
    }
   },
   "outputs": [
    {
     "data": {
      "text/plain": [
       "0.5101161858974359"
      ]
     },
     "execution_count": 196,
     "metadata": {},
     "output_type": "execute_result"
    }
   ],
   "source": [
    "metrics.roc_auc_score(good_only.label.astype(int), good_only.score)"
   ]
  }
 ],
 "metadata": {
  "kernelspec": {
   "display_name": "Python 3 (ipykernel)",
   "language": "python",
   "name": "python3"
  },
  "language_info": {
   "codemirror_mode": {
    "name": "ipython",
    "version": 3
   },
   "file_extension": ".py",
   "mimetype": "text/x-python",
   "name": "python",
   "nbconvert_exporter": "python",
   "pygments_lexer": "ipython3",
   "version": "3.7.12"
  }
 },
 "nbformat": 4,
 "nbformat_minor": 5
}
